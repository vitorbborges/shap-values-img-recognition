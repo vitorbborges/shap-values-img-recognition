{
 "cells": [
  {
   "cell_type": "code",
   "execution_count": 134,
   "metadata": {},
   "outputs": [],
   "source": [
    "import pandas as pd\n",
    "import os\n",
    "import shutil\n",
    "import random"
   ]
  },
  {
   "cell_type": "code",
   "execution_count": 135,
   "metadata": {},
   "outputs": [],
   "source": [
    "directory = 'C:/Users/vitor/Desktop/Education/Graduação/4 Semestre 1.2021/Métodos Numéricos e Modelos Computacionais em Economia/Trabalho Final/Shapley values on Image Recognition/'"
   ]
  },
  {
   "cell_type": "code",
   "execution_count": 136,
   "metadata": {},
   "outputs": [],
   "source": [
    "shap_table = pd.read_csv(directory+'shapley_values.csv')\n",
    "shap_table = shap_table.set_index('file_name')\n",
    "shap_table = shap_table.sort_values(by=['shap_value'], ascending = False)"
   ]
  },
  {
   "cell_type": "code",
   "execution_count": 167,
   "metadata": {},
   "outputs": [],
   "source": [
    "pd.concat([shap_table.head(15),shap_table.tail(15)])[['shap_value', 'class_name']].to_csv('extrem_value_images.csv')"
   ]
  },
  {
   "cell_type": "code",
   "execution_count": 138,
   "metadata": {},
   "outputs": [],
   "source": [
    "def create_folders():\n",
    "    \n",
    "    for i in range(1,11):\n",
    "\n",
    "        path = os.path.join(directory, 'Data_Validation/', 'Ascending/', f'batch {i}/')\n",
    "        \n",
    "        os.mkdir(path)\n",
    "        os.mkdir(path+'Train/')\n",
    "        os.mkdir(path+'Train/'+'up')\n",
    "        os.mkdir(path+'Train/'+'down')"
   ]
  },
  {
   "cell_type": "code",
   "execution_count": 139,
   "metadata": {},
   "outputs": [],
   "source": [
    "def separate_images():   \n",
    "    \n",
    "    for i in range(1,11):\n",
    "\n",
    "        smaller_table = shap_table.head(len(shap_table) - i*35)\n",
    "        \n",
    "        path = os.path.join(directory, 'Data_Validation/', 'Ascending/', f'batch {i}/')\n",
    "\n",
    "        for i in smaller_table.index:\n",
    "\n",
    "            origin = os.path.join(directory, 'Train/', smaller_table['class_name'][i]+'/')\n",
    "            destiny = os.path.join(path, 'Train/', smaller_table['class_name'][i]+'/')\n",
    "            shutil.copyfile(origin + i, destiny + i)"
   ]
  },
  {
   "cell_type": "code",
   "execution_count": 140,
   "metadata": {},
   "outputs": [],
   "source": [
    "create_folders()\n",
    "separate_images()"
   ]
  },
  {
   "cell_type": "code",
   "execution_count": 150,
   "metadata": {},
   "outputs": [],
   "source": [
    "def test_datasaving():\n",
    "    \n",
    "    for i in range(1,11):\n",
    "        \n",
    "        path = os.path.join(directory, 'Data_Validation/', f'batch {i}/')\n",
    "        \n",
    "        os.mkdir(path+'Test/')\n",
    "        os.mkdir(path+'Test/'+'up')\n",
    "        os.mkdir(path+'Test/'+'down')\n",
    "        \n",
    "        origin_up = os.path.join(directory, 'Test/', 'up')\n",
    "        origin_down = os.path.join(directory, 'Test/', 'down')\n",
    "        \n",
    "        destiny_up = os.path.join(path, 'Test/', 'up')\n",
    "        destiny_down = os.path.join(path, 'Test/', 'down')\n",
    "        \n",
    "        for j,k in zip(random.sample(os.listdir(origin_up), int(150 - (7.5)*i)), random.sample(os.listdir(origin_down), int(150 - (7.5)*i))):\n",
    "\n",
    "            shutil.copyfile(origin_up+'/'+j, destiny_up+'/'+j)\n",
    "            shutil.copyfile(origin_down+'/'+k, destiny_down+'/'+k)\n",
    "            \n",
    "test_datasaving()"
   ]
  },
  {
   "cell_type": "code",
   "execution_count": 163,
   "metadata": {},
   "outputs": [
    {
     "data": {
      "text/plain": [
       "75"
      ]
     },
     "execution_count": 163,
     "metadata": {},
     "output_type": "execute_result"
    }
   ],
   "source": [
    "path = os.path.join(directory, 'Data_Validation/', 'batch 10/')\n",
    "\n",
    "destiny_up = os.path.join(path, 'Test/', 'up')\n",
    "len(os.listdir(destiny_up))"
   ]
  },
  {
   "cell_type": "code",
   "execution_count": null,
   "metadata": {},
   "outputs": [],
   "source": []
  }
 ],
 "metadata": {
  "kernelspec": {
   "display_name": "Python 3",
   "language": "python",
   "name": "python3"
  },
  "language_info": {
   "codemirror_mode": {
    "name": "ipython",
    "version": 3
   },
   "file_extension": ".py",
   "mimetype": "text/x-python",
   "name": "python",
   "nbconvert_exporter": "python",
   "pygments_lexer": "ipython3",
   "version": "3.7.4"
  }
 },
 "nbformat": 4,
 "nbformat_minor": 2
}
