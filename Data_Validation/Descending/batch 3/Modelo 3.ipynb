{
 "cells": [
  {
   "cell_type": "code",
   "execution_count": 1,
   "metadata": {},
   "outputs": [
    {
     "name": "stdout",
     "output_type": "stream",
     "text": [
      "Found 594 images belonging to 2 classes.\n",
      "Found 254 images belonging to 2 classes.\n"
     ]
    },
    {
     "name": "stderr",
     "output_type": "stream",
     "text": [
      "C:\\Users\\vitor\\AppData\\Roaming\\Python\\Python37\\site-packages\\keras\\engine\\training.py:1915: UserWarning: `Model.fit_generator` is deprecated and will be removed in a future version. Please use `Model.fit`, which supports generators.\n",
      "  warnings.warn('`Model.fit_generator` is deprecated and '\n"
     ]
    },
    {
     "name": "stdout",
     "output_type": "stream",
     "text": [
      "Epoch 1/5\n",
      "594/594 [==============================] - 147s 211ms/step - loss: 2.1865 - accuracy: 0.5226 - precision: 0.4620 - recall: 0.2870 - val_loss: 0.6934 - val_accuracy: 0.5000 - val_precision: 0.4737 - val_recall: 0.3107\n",
      "Epoch 2/5\n",
      "594/594 [==============================] - 128s 216ms/step - loss: 0.6941 - accuracy: 0.5548 - precision: 0.4765 - recall: 0.2349 - val_loss: 0.6947 - val_accuracy: 0.5000 - val_precision: 0.4850 - val_recall: 0.1688\n",
      "Epoch 3/5\n",
      "594/594 [==============================] - 127s 214ms/step - loss: 0.6953 - accuracy: 0.5230 - precision: 0.4927 - recall: 0.1488 - val_loss: 0.6941 - val_accuracy: 0.4803 - val_precision: 0.4962 - val_recall: 0.1398\n",
      "Epoch 4/5\n",
      "594/594 [==============================] - 123s 207ms/step - loss: 0.6903 - accuracy: 0.5354 - precision: 0.4917 - recall: 0.1273 - val_loss: 0.6941 - val_accuracy: 0.4803 - val_precision: 0.4883 - val_recall: 0.1116\n",
      "Epoch 5/5\n",
      "594/594 [==============================] - 113s 190ms/step - loss: 0.6955 - accuracy: 0.5375 - precision: 0.4839 - recall: 0.1119 - val_loss: 0.6986 - val_accuracy: 0.4843 - val_precision: 0.4895 - val_recall: 0.1450\n",
      "254/254 [==============================] - 12s 47ms/step - loss: 0.6986 - accuracy: 0.4843 - precision: 0.4867 - recall: 0.1671\n",
      "\n",
      "Model's Evaluation Metrics: \n",
      "---------------------------\n",
      "Accuracy: 0.4842519760131836 \n",
      "Loss: 0.6986483931541443 \n",
      "Precision: 0.48673179745674133 \n",
      "Recall: 0.16714252531528473\n"
     ]
    }
   ],
   "source": [
    "########## RNC\n",
    "from keras.models import Sequential\n",
    "from keras.layers import Conv2D, MaxPooling2D\n",
    "from keras.layers import Activation, Dropout, Flatten, Dense\n",
    "from keras.preprocessing.image import ImageDataGenerator\n",
    "import tensorflow as tf \n",
    "\n",
    "model = Sequential()\n",
    "model.add(Conv2D(32, (3, 3), input_shape=(300, 300, 3)))\n",
    "model.add(Activation('relu'))\n",
    "model.add(MaxPooling2D(pool_size=(2, 2), padding = 'same'))\n",
    "model.add(Conv2D(64, (3, 3)))\n",
    "model.add(Activation('relu'))\n",
    "model.add(MaxPooling2D(pool_size=(2, 2)))\n",
    "model.add(Conv2D(128, (3, 3)))\n",
    "model.add(Activation('relu'))\n",
    "model.add(MaxPooling2D(pool_size=(2, 2)))\n",
    "model.add(Flatten())\n",
    "model.add(Dense(64))\n",
    "model.add(Activation('relu'))\n",
    "model.add(Dropout(0.5))\n",
    "model.add(Dense(1))\n",
    "model.add(Activation('sigmoid'))\n",
    "model.compile(loss = 'binary_crossentropy',\n",
    "              optimizer = 'Adamax',\n",
    "              metrics = ['accuracy',tf.keras.metrics.Precision(), tf.keras.metrics.Recall()])\n",
    "batch_size = 1\n",
    "train_datagen = ImageDataGenerator(rescale = 1./255, \n",
    "                                   shear_range = 0.2,\n",
    "                                   zoom_range = 0.2,\n",
    "                                   horizontal_flip = True)\n",
    "# Testing Augmentation - Only Rescaling\n",
    "test_datagen = ImageDataGenerator(rescale = 1./255)\n",
    "# Generates batches of Augmented Image data\n",
    "train_generator = train_datagen.flow_from_directory('Train/', target_size = (300, 300), \n",
    "                                                    batch_size = batch_size,\n",
    "                                                    class_mode = 'binary') \n",
    "# Generator for validation data\n",
    "validation_generator = test_datagen.flow_from_directory('Test/', \n",
    "                                                        target_size = (300, 300),\n",
    "                                                        batch_size = batch_size,\n",
    "                                                        class_mode = 'binary')\n",
    "# Fit the model on Training data\n",
    "model.fit_generator(train_generator,\n",
    "                    epochs = 5,\n",
    "                    validation_data = validation_generator,\n",
    "                    verbose = 1)\n",
    "# Evaluating model performance on Testing data\n",
    "loss, accuracy, precision, recall = model.evaluate(validation_generator)\n",
    "print(\"\\nModel's Evaluation Metrics: \")\n",
    "print(\"---------------------------\")\n",
    "print(\"Accuracy: {} \\nLoss: {} \\nPrecision: {} \\nRecall: {}\".format(accuracy, loss, precision, recall))"
   ]
  },
  {
   "cell_type": "code",
   "execution_count": 2,
   "metadata": {},
   "outputs": [
    {
     "name": "stdout",
     "output_type": "stream",
     "text": [
      "Saved model to disk\n"
     ]
    }
   ],
   "source": [
    "# serialize model to JSON\n",
    "model_json = model.to_json()\n",
    "with open(\"model3.json\", \"w\") as json_file:\n",
    "    json_file.write(model_json)\n",
    "# serialize weights to HDF5\n",
    "model.save_weights(\"model3.h5\")\n",
    "print(\"Saved model to disk\")"
   ]
  },
  {
   "cell_type": "code",
   "execution_count": null,
   "metadata": {},
   "outputs": [],
   "source": []
  }
 ],
 "metadata": {
  "kernelspec": {
   "display_name": "Python 3",
   "language": "python",
   "name": "python3"
  },
  "language_info": {
   "codemirror_mode": {
    "name": "ipython",
    "version": 3
   },
   "file_extension": ".py",
   "mimetype": "text/x-python",
   "name": "python",
   "nbconvert_exporter": "python",
   "pygments_lexer": "ipython3",
   "version": "3.7.4"
  }
 },
 "nbformat": 4,
 "nbformat_minor": 2
}
