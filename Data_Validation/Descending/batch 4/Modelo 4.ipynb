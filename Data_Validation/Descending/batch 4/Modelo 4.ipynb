{
 "cells": [
  {
   "cell_type": "code",
   "execution_count": 1,
   "metadata": {},
   "outputs": [
    {
     "name": "stdout",
     "output_type": "stream",
     "text": [
      "Found 559 images belonging to 2 classes.\n",
      "Found 240 images belonging to 2 classes.\n"
     ]
    },
    {
     "name": "stderr",
     "output_type": "stream",
     "text": [
      "C:\\Users\\vitor\\AppData\\Roaming\\Python\\Python37\\site-packages\\keras\\engine\\training.py:1915: UserWarning: `Model.fit_generator` is deprecated and will be removed in a future version. Please use `Model.fit`, which supports generators.\n",
      "  warnings.warn('`Model.fit_generator` is deprecated and '\n"
     ]
    },
    {
     "name": "stdout",
     "output_type": "stream",
     "text": [
      "Epoch 1/5\n",
      "559/559 [==============================] - 223s 344ms/step - loss: 1.1058 - accuracy: 0.5197 - precision: 0.5170 - recall: 0.4834 - val_loss: 0.6931 - val_accuracy: 0.5000 - val_precision: 0.4769 - val_recall: 0.1896\n",
      "Epoch 2/5\n",
      "559/559 [==============================] - 206s 368ms/step - loss: 0.6968 - accuracy: 0.4851 - precision: 0.4768 - recall: 0.1916 - val_loss: 0.6932 - val_accuracy: 0.5000 - val_precision: 0.4784 - val_recall: 0.1693\n",
      "Epoch 3/5\n",
      "559/559 [==============================] - 212s 379ms/step - loss: 0.6936 - accuracy: 0.4723 - precision: 0.4753 - recall: 0.1583 - val_loss: 0.6931 - val_accuracy: 0.5083 - val_precision: 0.4591 - val_recall: 0.1485\n",
      "Epoch 4/5\n",
      "559/559 [==============================] - 213s 380ms/step - loss: 0.6986 - accuracy: 0.4726 - precision: 0.4638 - recall: 0.1500 - val_loss: 0.6953 - val_accuracy: 0.5042 - val_precision: 0.4705 - val_recall: 0.1611\n",
      "Epoch 5/5\n",
      "559/559 [==============================] - 207s 370ms/step - loss: 0.6946 - accuracy: 0.5191 - precision: 0.4751 - recall: 0.1594 - val_loss: 0.6978 - val_accuracy: 0.4708 - val_precision: 0.4780 - val_recall: 0.1668\n",
      "240/240 [==============================] - 28s 117ms/step - loss: 0.6978 - accuracy: 0.4708 - precision: 0.4759 - recall: 0.1699\n",
      "\n",
      "Model's Evaluation Metrics: \n",
      "---------------------------\n",
      "Accuracy: 0.47083333134651184 \n",
      "Loss: 0.6977912187576294 \n",
      "Precision: 0.47590261697769165 \n",
      "Recall: 0.1699436604976654\n"
     ]
    }
   ],
   "source": [
    "########## RNC\n",
    "from keras.models import Sequential\n",
    "from keras.layers import Conv2D, MaxPooling2D\n",
    "from keras.layers import Activation, Dropout, Flatten, Dense\n",
    "from keras.preprocessing.image import ImageDataGenerator\n",
    "import tensorflow as tf \n",
    "\n",
    "model = Sequential()\n",
    "model.add(Conv2D(32, (3, 3), input_shape=(300, 300, 3)))\n",
    "model.add(Activation('relu'))\n",
    "model.add(MaxPooling2D(pool_size=(2, 2), padding = 'same'))\n",
    "model.add(Conv2D(64, (3, 3)))\n",
    "model.add(Activation('relu'))\n",
    "model.add(MaxPooling2D(pool_size=(2, 2)))\n",
    "model.add(Conv2D(128, (3, 3)))\n",
    "model.add(Activation('relu'))\n",
    "model.add(MaxPooling2D(pool_size=(2, 2)))\n",
    "model.add(Flatten())\n",
    "model.add(Dense(64))\n",
    "model.add(Activation('relu'))\n",
    "model.add(Dropout(0.5))\n",
    "model.add(Dense(1))\n",
    "model.add(Activation('sigmoid'))\n",
    "model.compile(loss = 'binary_crossentropy',\n",
    "              optimizer = 'Adamax',\n",
    "              metrics = ['accuracy',tf.keras.metrics.Precision(), tf.keras.metrics.Recall()])\n",
    "batch_size = 1\n",
    "train_datagen = ImageDataGenerator(rescale = 1./255, \n",
    "                                   shear_range = 0.2,\n",
    "                                   zoom_range = 0.2,\n",
    "                                   horizontal_flip = True)\n",
    "# Testing Augmentation - Only Rescaling\n",
    "test_datagen = ImageDataGenerator(rescale = 1./255)\n",
    "# Generates batches of Augmented Image data\n",
    "train_generator = train_datagen.flow_from_directory('Train/', target_size = (300, 300), \n",
    "                                                    batch_size = batch_size,\n",
    "                                                    class_mode = 'binary') \n",
    "# Generator for validation data\n",
    "validation_generator = test_datagen.flow_from_directory('Test/', \n",
    "                                                        target_size = (300, 300),\n",
    "                                                        batch_size = batch_size,\n",
    "                                                        class_mode = 'binary')\n",
    "# Fit the model on Training data\n",
    "model.fit_generator(train_generator,\n",
    "                    epochs = 5,\n",
    "                    validation_data = validation_generator,\n",
    "                    verbose = 1)\n",
    "# Evaluating model performance on Testing data\n",
    "loss, accuracy, precision, recall = model.evaluate(validation_generator)\n",
    "print(\"\\nModel's Evaluation Metrics: \")\n",
    "print(\"---------------------------\")\n",
    "print(\"Accuracy: {} \\nLoss: {} \\nPrecision: {} \\nRecall: {}\".format(accuracy, loss, precision, recall))"
   ]
  },
  {
   "cell_type": "code",
   "execution_count": 2,
   "metadata": {},
   "outputs": [
    {
     "name": "stdout",
     "output_type": "stream",
     "text": [
      "Saved model to disk\n"
     ]
    }
   ],
   "source": [
    "# serialize model to JSON\n",
    "model_json = model.to_json()\n",
    "with open(\"model4.json\", \"w\") as json_file:\n",
    "    json_file.write(model_json)\n",
    "# serialize weights to HDF5\n",
    "model.save_weights(\"model4.h5\")\n",
    "print(\"Saved model to disk\")"
   ]
  },
  {
   "cell_type": "code",
   "execution_count": null,
   "metadata": {},
   "outputs": [],
   "source": []
  }
 ],
 "metadata": {
  "kernelspec": {
   "display_name": "Python 3",
   "language": "python",
   "name": "python3"
  },
  "language_info": {
   "codemirror_mode": {
    "name": "ipython",
    "version": 3
   },
   "file_extension": ".py",
   "mimetype": "text/x-python",
   "name": "python",
   "nbconvert_exporter": "python",
   "pygments_lexer": "ipython3",
   "version": "3.7.4"
  }
 },
 "nbformat": 4,
 "nbformat_minor": 2
}
