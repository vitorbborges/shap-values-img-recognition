{
 "cells": [
  {
   "cell_type": "code",
   "execution_count": 2,
   "metadata": {},
   "outputs": [
    {
     "name": "stdout",
     "output_type": "stream",
     "text": [
      "Found 629 images belonging to 2 classes.\n",
      "Found 270 images belonging to 2 classes.\n"
     ]
    },
    {
     "name": "stderr",
     "output_type": "stream",
     "text": [
      "C:\\Users\\vitor\\AppData\\Roaming\\Python\\Python37\\site-packages\\keras\\engine\\training.py:1915: UserWarning: `Model.fit_generator` is deprecated and will be removed in a future version. Please use `Model.fit`, which supports generators.\n",
      "  warnings.warn('`Model.fit_generator` is deprecated and '\n"
     ]
    },
    {
     "name": "stdout",
     "output_type": "stream",
     "text": [
      "Epoch 1/5\n",
      "629/629 [==============================] - 212s 324ms/step - loss: 0.8655 - accuracy: 0.5234 - precision_1: 0.2871 - recall_1: 0.1082 - val_loss: 0.6935 - val_accuracy: 0.4963 - val_precision_1: 0.4786 - val_recall_1: 0.3490\n",
      "Epoch 2/5\n",
      "629/629 [==============================] - 233s 370ms/step - loss: 0.6945 - accuracy: 0.4432 - precision_1: 0.4828 - recall_1: 0.4603 - val_loss: 0.6949 - val_accuracy: 0.5000 - val_precision_1: 0.4802 - val_recall_1: 0.4204\n",
      "Epoch 3/5\n",
      "629/629 [==============================] - 235s 373ms/step - loss: 0.6943 - accuracy: 0.5241 - precision_1: 0.4804 - recall_1: 0.3865 - val_loss: 0.7101 - val_accuracy: 0.5000 - val_precision_1: 0.4941 - val_recall_1: 0.4127\n",
      "Epoch 4/5\n",
      "629/629 [==============================] - 224s 356ms/step - loss: 0.6956 - accuracy: 0.5142 - precision_1: 0.4937 - recall_1: 0.4359 - val_loss: 0.6946 - val_accuracy: 0.4444 - val_precision_1: 0.4915 - val_recall_1: 0.4294\n",
      "Epoch 5/5\n",
      "629/629 [==============================] - 238s 378ms/step - loss: 0.6944 - accuracy: 0.4992 - precision_1: 0.4897 - recall_1: 0.4457 - val_loss: 0.6993 - val_accuracy: 0.4704 - val_precision_1: 0.4913 - val_recall_1: 0.4681\n",
      "270/270 [==============================] - 23s 84ms/step - loss: 0.6993 - accuracy: 0.4704 - precision_1: 0.4922 - recall_1: 0.4850 9s - loss: 0.6997  - ETA: 4s - loss: 0.7012 - accuracy: 0.47 - ETA: 0s - loss: 0.6995 - accuracy: 0.4749 - precision_1: 0.4923 - reca\n",
      "\n",
      "Model's Evaluation Metrics: \n",
      "---------------------------\n",
      "Accuracy: 0.4703703820705414 \n",
      "Loss: 0.699339747428894 \n",
      "Precision: 0.4921876788139343 \n",
      "Recall: 0.4850202798843384\n"
     ]
    }
   ],
   "source": [
    "########## RNC\n",
    "from keras.models import Sequential\n",
    "from keras.layers import Conv2D, MaxPooling2D\n",
    "from keras.layers import Activation, Dropout, Flatten, Dense\n",
    "from keras.preprocessing.image import ImageDataGenerator\n",
    "import tensorflow as tf \n",
    "\n",
    "model = Sequential()\n",
    "model.add(Conv2D(32, (3, 3), input_shape=(300, 300, 3)))\n",
    "model.add(Activation('relu'))\n",
    "model.add(MaxPooling2D(pool_size=(2, 2), padding = 'same'))\n",
    "model.add(Conv2D(64, (3, 3)))\n",
    "model.add(Activation('relu'))\n",
    "model.add(MaxPooling2D(pool_size=(2, 2)))\n",
    "model.add(Conv2D(128, (3, 3)))\n",
    "model.add(Activation('relu'))\n",
    "model.add(MaxPooling2D(pool_size=(2, 2)))\n",
    "model.add(Flatten())\n",
    "model.add(Dense(64))\n",
    "model.add(Activation('relu'))\n",
    "model.add(Dropout(0.5))\n",
    "model.add(Dense(1))\n",
    "model.add(Activation('sigmoid'))\n",
    "model.compile(loss = 'binary_crossentropy',\n",
    "              optimizer = 'Adamax',\n",
    "              metrics = ['accuracy',tf.keras.metrics.Precision(), tf.keras.metrics.Recall()])\n",
    "batch_size = 1\n",
    "train_datagen = ImageDataGenerator(rescale = 1./255, \n",
    "                                   shear_range = 0.2,\n",
    "                                   zoom_range = 0.2,\n",
    "                                   horizontal_flip = True)\n",
    "# Testing Augmentation - Only Rescaling\n",
    "test_datagen = ImageDataGenerator(rescale = 1./255)\n",
    "# Generates batches of Augmented Image data\n",
    "train_generator = train_datagen.flow_from_directory('Train/', target_size = (300, 300), \n",
    "                                                    batch_size = batch_size,\n",
    "                                                    class_mode = 'binary') \n",
    "# Generator for validation data\n",
    "validation_generator = test_datagen.flow_from_directory('Test/', \n",
    "                                                        target_size = (300, 300),\n",
    "                                                        batch_size = batch_size,\n",
    "                                                        class_mode = 'binary')\n",
    "# Fit the model on Training data\n",
    "model.fit_generator(train_generator,\n",
    "                    epochs = 5,\n",
    "                    validation_data = validation_generator,\n",
    "                    verbose = 1)\n",
    "# Evaluating model performance on Testing data\n",
    "loss, accuracy, precision, recall = model.evaluate(validation_generator)\n",
    "print(\"\\nModel's Evaluation Metrics: \")\n",
    "print(\"---------------------------\")\n",
    "print(\"Accuracy: {} \\nLoss: {} \\nPrecision: {} \\nRecall: {}\".format(accuracy, loss, precision, recall))"
   ]
  },
  {
   "cell_type": "code",
   "execution_count": 3,
   "metadata": {},
   "outputs": [
    {
     "name": "stdout",
     "output_type": "stream",
     "text": [
      "Saved model to disk\n"
     ]
    }
   ],
   "source": [
    "# serialize model to JSON\n",
    "model_json = model.to_json()\n",
    "with open(\"model2.json\", \"w\") as json_file:\n",
    "    json_file.write(model_json)\n",
    "# serialize weights to HDF5\n",
    "model.save_weights(\"model2.h5\")\n",
    "print(\"Saved model to disk\")"
   ]
  },
  {
   "cell_type": "code",
   "execution_count": null,
   "metadata": {},
   "outputs": [],
   "source": []
  }
 ],
 "metadata": {
  "kernelspec": {
   "display_name": "Python 3",
   "language": "python",
   "name": "python3"
  },
  "language_info": {
   "codemirror_mode": {
    "name": "ipython",
    "version": 3
   },
   "file_extension": ".py",
   "mimetype": "text/x-python",
   "name": "python",
   "nbconvert_exporter": "python",
   "pygments_lexer": "ipython3",
   "version": "3.7.4"
  }
 },
 "nbformat": 4,
 "nbformat_minor": 2
}
