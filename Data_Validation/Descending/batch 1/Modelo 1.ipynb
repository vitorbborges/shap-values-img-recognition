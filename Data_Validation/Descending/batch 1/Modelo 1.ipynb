{
 "cells": [
  {
   "cell_type": "code",
   "execution_count": 3,
   "metadata": {},
   "outputs": [
    {
     "name": "stdout",
     "output_type": "stream",
     "text": [
      "Found 664 images belonging to 2 classes.\n",
      "Found 284 images belonging to 2 classes.\n",
      "Epoch 1/5\n",
      "664/664 [==============================] - 212s 303ms/step - loss: 0.8564 - accuracy: 0.5000 - precision_2: 0.3313 - recall_2: 0.3559 - val_loss: 0.6932 - val_accuracy: 0.5000 - val_precision_2: 0.4953 - val_recall_2: 0.6670\n",
      "Epoch 2/5\n",
      "664/664 [==============================] - 243s 365ms/step - loss: 0.6941 - accuracy: 0.4822 - precision_2: 0.4921 - recall_2: 0.4967 - val_loss: 0.6932 - val_accuracy: 0.5000 - val_precision_2: 0.4840 - val_recall_2: 0.3500\n",
      "Epoch 3/5\n",
      "664/664 [==============================] - 247s 372ms/step - loss: 0.6937 - accuracy: 0.5147 - precision_2: 0.4840 - recall_2: 0.2984 - val_loss: 0.6936 - val_accuracy: 0.4718 - val_precision_2: 0.4835 - val_recall_2: 0.2338\n",
      "Epoch 4/5\n",
      "664/664 [==============================] - 236s 356ms/step - loss: 0.6950 - accuracy: 0.5008 - precision_2: 0.4790 - recall_2: 0.2170 - val_loss: 0.6945 - val_accuracy: 0.4789 - val_precision_2: 0.4738 - val_recall_2: 0.2109\n",
      "Epoch 5/5\n",
      "664/664 [==============================] - 250s 376ms/step - loss: 0.6949 - accuracy: 0.5439 - precision_2: 0.4769 - recall_2: 0.2116 - val_loss: 0.6952 - val_accuracy: 0.4965 - val_precision_2: 0.4884 - val_recall_2: 0.2307\n",
      "284/284 [==============================] - 23s 79ms/step - loss: 0.6952 - accuracy: 0.4965 - precision_2: 0.4871 - recall_2: 0.2252\n",
      "\n",
      "Model's Evaluation Metrics: \n",
      "---------------------------\n",
      "Accuracy: 0.4964788854122162 \n",
      "Loss: 0.6952239274978638 \n",
      "Precision: 0.4871364235877991 \n",
      "Recall: 0.22519069910049438\n"
     ]
    }
   ],
   "source": [
    "########## RNC\n",
    "from keras.models import Sequential\n",
    "from keras.layers import Conv2D, MaxPooling2D\n",
    "from keras.layers import Activation, Dropout, Flatten, Dense\n",
    "from keras.preprocessing.image import ImageDataGenerator\n",
    "import tensorflow as tf \n",
    "\n",
    "model = Sequential()\n",
    "model.add(Conv2D(32, (3, 3), input_shape=(300, 300, 3)))\n",
    "model.add(Activation('relu'))\n",
    "model.add(MaxPooling2D(pool_size=(2, 2), padding = 'same'))\n",
    "model.add(Conv2D(64, (3, 3)))\n",
    "model.add(Activation('relu'))\n",
    "model.add(MaxPooling2D(pool_size=(2, 2)))\n",
    "model.add(Conv2D(128, (3, 3)))\n",
    "model.add(Activation('relu'))\n",
    "model.add(MaxPooling2D(pool_size=(2, 2)))\n",
    "model.add(Flatten())\n",
    "model.add(Dense(64))\n",
    "model.add(Activation('relu'))\n",
    "model.add(Dropout(0.5))\n",
    "model.add(Dense(1))\n",
    "model.add(Activation('sigmoid'))\n",
    "model.compile(loss = 'binary_crossentropy',\n",
    "              optimizer = 'Adamax',\n",
    "              metrics = ['accuracy',tf.keras.metrics.Precision(), tf.keras.metrics.Recall()])\n",
    "batch_size = 1\n",
    "train_datagen = ImageDataGenerator(rescale = 1./255, \n",
    "                                   shear_range = 0.2,\n",
    "                                   zoom_range = 0.2,\n",
    "                                   horizontal_flip = True)\n",
    "# Testing Augmentation - Only Rescaling\n",
    "test_datagen = ImageDataGenerator(rescale = 1./255)\n",
    "# Generates batches of Augmented Image data\n",
    "train_generator = train_datagen.flow_from_directory('Train/', target_size = (300, 300), \n",
    "                                                    batch_size = batch_size,\n",
    "                                                    class_mode = 'binary') \n",
    "# Generator for validation data\n",
    "validation_generator = test_datagen.flow_from_directory('Test/', \n",
    "                                                        target_size = (300, 300),\n",
    "                                                        batch_size = batch_size,\n",
    "                                                        class_mode = 'binary')\n",
    "# Fit the model on Training data\n",
    "model.fit_generator(train_generator,\n",
    "                    epochs = 5,\n",
    "                    validation_data = validation_generator,\n",
    "                    verbose = 1)\n",
    "# Evaluating model performance on Testing data\n",
    "loss, accuracy, precision, recall = model.evaluate(validation_generator)\n",
    "print(\"\\nModel's Evaluation Metrics: \")\n",
    "print(\"---------------------------\")\n",
    "print(\"Accuracy: {} \\nLoss: {} \\nPrecision: {} \\nRecall: {}\".format(accuracy, loss, precision, recall))"
   ]
  },
  {
   "cell_type": "code",
   "execution_count": 4,
   "metadata": {},
   "outputs": [
    {
     "name": "stdout",
     "output_type": "stream",
     "text": [
      "Saved model to disk\n"
     ]
    }
   ],
   "source": [
    "# serialize model to JSON\n",
    "model_json = model.to_json()\n",
    "with open(\"model1.json\", \"w\") as json_file:\n",
    "    json_file.write(model_json)\n",
    "# serialize weights to HDF5\n",
    "model.save_weights(\"model1.h5\")\n",
    "print(\"Saved model to disk\")"
   ]
  },
  {
   "cell_type": "code",
   "execution_count": null,
   "metadata": {},
   "outputs": [],
   "source": []
  }
 ],
 "metadata": {
  "kernelspec": {
   "display_name": "Python 3",
   "language": "python",
   "name": "python3"
  },
  "language_info": {
   "codemirror_mode": {
    "name": "ipython",
    "version": 3
   },
   "file_extension": ".py",
   "mimetype": "text/x-python",
   "name": "python",
   "nbconvert_exporter": "python",
   "pygments_lexer": "ipython3",
   "version": "3.7.4"
  }
 },
 "nbformat": 4,
 "nbformat_minor": 2
}
