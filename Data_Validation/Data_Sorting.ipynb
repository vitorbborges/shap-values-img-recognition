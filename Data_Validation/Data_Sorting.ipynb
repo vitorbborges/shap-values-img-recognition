{
 "cells": [
  {
   "cell_type": "code",
   "execution_count": 161,
   "metadata": {},
   "outputs": [],
   "source": [
    "import pandas as pd\n",
    "import os\n",
    "import shutil\n",
    "import random"
   ]
  },
  {
   "cell_type": "code",
   "execution_count": 162,
   "metadata": {},
   "outputs": [],
   "source": [
    "directory = 'C:/Users/vitor/Desktop/Education/Graduação/4 Semestre 1.2021/Métodos Numéricos e Modelos Computacionais em Economia/Trabalho Final/Shapley values on Image Recognition/'"
   ]
  },
  {
   "cell_type": "code",
   "execution_count": 173,
   "metadata": {},
   "outputs": [],
   "source": [
    "shap_table = pd.read_csv(directory+'shapley_values.csv')\n",
    "shap_table = shap_table.set_index('file_name')\n",
    "shap_table = shap_table.sort_values(by=['shap_value'], ascending = True)\n",
    "shap_table = shap_table.drop('DISCK_monthly_from_2015-01-30_to_2016-03-31.png')\n",
    "#shap_table = shap_table.drop('GOOGL_weekly_from_2019-11-22_to_2020-02-28.png')"
   ]
  },
  {
   "cell_type": "code",
   "execution_count": 174,
   "metadata": {},
   "outputs": [
    {
     "data": {
      "text/plain": [
       "'down'"
      ]
     },
     "execution_count": 174,
     "metadata": {},
     "output_type": "execute_result"
    }
   ],
   "source": [
    "shap_table['class_name']['GOOGL_weekly_from_2019-11-22_to_2020-02-28.png']"
   ]
  },
  {
   "cell_type": "code",
   "execution_count": 164,
   "metadata": {},
   "outputs": [],
   "source": [
    "def create_folders():\n",
    "    \n",
    "    for i in range(1,11):\n",
    "\n",
    "        path = os.path.join(directory, 'Data_Validation/', 'Descending/', f'batch {i}/')\n",
    "        \n",
    "        os.mkdir(path)\n",
    "        os.mkdir(path+'Train/')\n",
    "        os.mkdir(path+'Train/'+'up')\n",
    "        os.mkdir(path+'Train/'+'down')"
   ]
  },
  {
   "cell_type": "code",
   "execution_count": 165,
   "metadata": {},
   "outputs": [],
   "source": [
    "def separate_images():   \n",
    "    \n",
    "    for i in range(1,11):\n",
    "\n",
    "        smaller_table = shap_table.head(len(shap_table) - i*35)\n",
    "        \n",
    "        #directory = 'C:/Users/vitor/Desktop/Education/Graduação/LAMFO/Projetos/#img_candles/Model/Train/'\n",
    "        path = os.path.join(directory, 'Data_Validation/', 'Descending/', f'batch {i}/', 'Train/')\n",
    "\n",
    "        for j in smaller_table.index:\n",
    "\n",
    "            origin = os.path.join(directory, 'Train/', smaller_table['class_name'][j]+'/'+ j)\n",
    "            destiny = os.path.join(path, smaller_table['class_name'][j]+'/' + j)\n",
    "            shutil.copyfile(origin, destiny)"
   ]
  },
  {
   "cell_type": "code",
   "execution_count": 120,
   "metadata": {},
   "outputs": [],
   "source": [
    "create_folders()"
   ]
  },
  {
   "cell_type": "code",
   "execution_count": 166,
   "metadata": {
    "scrolled": true
   },
   "outputs": [],
   "source": [
    "separate_images()"
   ]
  },
  {
   "cell_type": "code",
   "execution_count": 175,
   "metadata": {},
   "outputs": [],
   "source": [
    "def test_datasaving():\n",
    "    \n",
    "    for i in range(1,11):\n",
    "        \n",
    "        path = os.path.join(directory, 'Data_Validation/', 'Descending/', f'batch {i}/')\n",
    "        \n",
    "        os.mkdir(path+'Test/')\n",
    "        os.mkdir(path+'Test/'+'up')\n",
    "        os.mkdir(path+'Test/'+'down')\n",
    "        \n",
    "        origin_up = os.path.join(directory, 'Test/', 'up')\n",
    "        origin_down = os.path.join(directory, 'Test/', 'down')\n",
    "        \n",
    "        destiny_up = os.path.join(path, 'Test/', 'up')\n",
    "        destiny_down = os.path.join(path, 'Test/', 'down')\n",
    "        \n",
    "        for j,k in zip(random.sample(os.listdir(origin_up), int(150 - (7.5)*i)), random.sample(os.listdir(origin_down), int(150 - (7.5)*i))):\n",
    "\n",
    "            shutil.copyfile(origin_up+'/'+j, destiny_up+'/'+j)\n",
    "            shutil.copyfile(origin_down+'/'+k, destiny_down+'/'+k)\n",
    "            \n",
    "test_datasaving()"
   ]
  },
  {
   "cell_type": "code",
   "execution_count": 179,
   "metadata": {},
   "outputs": [
    {
     "data": {
      "text/plain": [
       "142"
      ]
     },
     "execution_count": 179,
     "metadata": {},
     "output_type": "execute_result"
    }
   ],
   "source": [
    "path = os.path.join(directory, 'Data_Validation/', 'Descending/', 'batch 1/')\n",
    "\n",
    "destiny_up = os.path.join(path, 'Test/', 'down/')\n",
    "len(os.listdir(destiny_up))"
   ]
  },
  {
   "cell_type": "code",
   "execution_count": null,
   "metadata": {},
   "outputs": [],
   "source": []
  }
 ],
 "metadata": {
  "kernelspec": {
   "display_name": "Python 3",
   "language": "python",
   "name": "python3"
  },
  "language_info": {
   "codemirror_mode": {
    "name": "ipython",
    "version": 3
   },
   "file_extension": ".py",
   "mimetype": "text/x-python",
   "name": "python",
   "nbconvert_exporter": "python",
   "pygments_lexer": "ipython3",
   "version": "3.7.4"
  }
 },
 "nbformat": 4,
 "nbformat_minor": 2
}
