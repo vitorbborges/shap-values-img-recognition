{
 "cells": [
  {
   "cell_type": "code",
   "execution_count": 1,
   "metadata": {},
   "outputs": [
    {
     "name": "stdout",
     "output_type": "stream",
     "text": [
      "Found 630 images belonging to 2 classes.\n",
      "Found 270 images belonging to 2 classes.\n"
     ]
    },
    {
     "name": "stderr",
     "output_type": "stream",
     "text": [
      "C:\\Users\\vitor\\AppData\\Roaming\\Python\\Python37\\site-packages\\keras\\engine\\training.py:1915: UserWarning: `Model.fit_generator` is deprecated and will be removed in a future version. Please use `Model.fit`, which supports generators.\n",
      "  warnings.warn('`Model.fit_generator` is deprecated and '\n"
     ]
    },
    {
     "name": "stdout",
     "output_type": "stream",
     "text": [
      "Epoch 1/5\n",
      "630/630 [==============================] - 164s 223ms/step - loss: 1.1622 - accuracy: 0.4251 - precision: 0.4199 - recall: 0.5094 - val_loss: 0.6932 - val_accuracy: 0.5000 - val_precision: 0.4864 - val_recall: 0.7935\n",
      "Epoch 2/5\n",
      "630/630 [==============================] - 116s 184ms/step - loss: 0.6951 - accuracy: 0.5289 - precision: 0.4956 - recall: 0.8270 - val_loss: 0.6933 - val_accuracy: 0.5000 - val_precision: 0.4994 - val_recall: 0.8705\n",
      "Epoch 3/5\n",
      "630/630 [==============================] - 118s 188ms/step - loss: 0.6938 - accuracy: 0.4532 - precision: 0.4966 - recall: 0.8643 - val_loss: 0.6934 - val_accuracy: 0.5000 - val_precision: 0.5020 - val_recall: 0.8854\n",
      "Epoch 4/5\n",
      "630/630 [==============================] - 124s 197ms/step - loss: 0.6928 - accuracy: 0.5289 - precision: 0.5031 - recall: 0.8955 - val_loss: 0.6933 - val_accuracy: 0.5000 - val_precision: 0.5048 - val_recall: 0.8913\n",
      "Epoch 5/5\n",
      "630/630 [==============================] - 140s 221ms/step - loss: 0.6925 - accuracy: 0.5201 - precision: 0.5059 - recall: 0.8992 - val_loss: 0.6935 - val_accuracy: 0.5000 - val_precision: 0.5047 - val_recall: 0.9012\n",
      "270/270 [==============================] - 14s 53ms/step - loss: 0.6935 - accuracy: 0.5000 - precision: 0.5045 - recall: 0.9068\n",
      "\n",
      "Model's Evaluation Metrics: \n",
      "---------------------------\n",
      "Accuracy: 0.5 \n",
      "Loss: 0.6934801340103149 \n",
      "Precision: 0.504517138004303 \n",
      "Recall: 0.9068313837051392\n"
     ]
    }
   ],
   "source": [
    "########## RNC\n",
    "from keras.models import Sequential\n",
    "from keras.layers import Conv2D, MaxPooling2D\n",
    "from keras.layers import Activation, Dropout, Flatten, Dense\n",
    "from keras.preprocessing.image import ImageDataGenerator\n",
    "import tensorflow as tf \n",
    "\n",
    "model = Sequential()\n",
    "model.add(Conv2D(32, (3, 3), input_shape=(300, 300, 3)))\n",
    "model.add(Activation('relu'))\n",
    "model.add(MaxPooling2D(pool_size=(2, 2), padding = 'same'))\n",
    "model.add(Conv2D(64, (3, 3)))\n",
    "model.add(Activation('relu'))\n",
    "model.add(MaxPooling2D(pool_size=(2, 2)))\n",
    "model.add(Conv2D(128, (3, 3)))\n",
    "model.add(Activation('relu'))\n",
    "model.add(MaxPooling2D(pool_size=(2, 2)))\n",
    "model.add(Flatten())\n",
    "model.add(Dense(64))\n",
    "model.add(Activation('relu'))\n",
    "model.add(Dropout(0.5))\n",
    "model.add(Dense(1))\n",
    "model.add(Activation('sigmoid'))\n",
    "model.compile(loss = 'binary_crossentropy',\n",
    "              optimizer = 'Adamax',\n",
    "              metrics = ['accuracy',tf.keras.metrics.Precision(), tf.keras.metrics.Recall()])\n",
    "batch_size = 1\n",
    "train_datagen = ImageDataGenerator(rescale = 1./255, \n",
    "                                   shear_range = 0.2,\n",
    "                                   zoom_range = 0.2,\n",
    "                                   horizontal_flip = True)\n",
    "# Testing Augmentation - Only Rescaling\n",
    "test_datagen = ImageDataGenerator(rescale = 1./255)\n",
    "# Generates batches of Augmented Image data\n",
    "train_generator = train_datagen.flow_from_directory('Train/', target_size = (300, 300), \n",
    "                                                    batch_size = batch_size,\n",
    "                                                    class_mode = 'binary') \n",
    "# Generator for validation data\n",
    "validation_generator = test_datagen.flow_from_directory('Test/', \n",
    "                                                        target_size = (300, 300),\n",
    "                                                        batch_size = batch_size,\n",
    "                                                        class_mode = 'binary')\n",
    "# Fit the model on Training data\n",
    "model.fit_generator(train_generator,\n",
    "                    epochs = 5,\n",
    "                    validation_data = validation_generator,\n",
    "                    verbose = 1)\n",
    "# Evaluating model performance on Testing data\n",
    "loss, accuracy, precision, recall = model.evaluate(validation_generator)\n",
    "print(\"\\nModel's Evaluation Metrics: \")\n",
    "print(\"---------------------------\")\n",
    "print(\"Accuracy: {} \\nLoss: {} \\nPrecision: {} \\nRecall: {}\".format(accuracy, loss, precision, recall))"
   ]
  },
  {
   "cell_type": "code",
   "execution_count": 3,
   "metadata": {},
   "outputs": [
    {
     "name": "stdout",
     "output_type": "stream",
     "text": [
      "Saved model to disk\n"
     ]
    }
   ],
   "source": [
    "# serialize model to JSON\n",
    "model_json = model.to_json()\n",
    "with open(\"model2.json\", \"w\") as json_file:\n",
    "    json_file.write(model_json)\n",
    "# serialize weights to HDF5\n",
    "model.save_weights(\"model2.h5\")\n",
    "print(\"Saved model to disk\")"
   ]
  },
  {
   "cell_type": "code",
   "execution_count": null,
   "metadata": {},
   "outputs": [],
   "source": []
  }
 ],
 "metadata": {
  "kernelspec": {
   "display_name": "Python 3",
   "language": "python",
   "name": "python3"
  },
  "language_info": {
   "codemirror_mode": {
    "name": "ipython",
    "version": 3
   },
   "file_extension": ".py",
   "mimetype": "text/x-python",
   "name": "python",
   "nbconvert_exporter": "python",
   "pygments_lexer": "ipython3",
   "version": "3.7.4"
  }
 },
 "nbformat": 4,
 "nbformat_minor": 2
}
