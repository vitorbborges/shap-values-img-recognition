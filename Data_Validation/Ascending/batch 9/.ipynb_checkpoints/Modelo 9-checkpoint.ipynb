{
 "cells": [
  {
   "cell_type": "code",
   "execution_count": 1,
   "metadata": {},
   "outputs": [
    {
     "name": "stdout",
     "output_type": "stream",
     "text": [
      "Found 385 images belonging to 2 classes.\n",
      "Found 164 images belonging to 2 classes.\n"
     ]
    },
    {
     "name": "stderr",
     "output_type": "stream",
     "text": [
      "C:\\Users\\vitor\\AppData\\Roaming\\Python\\Python37\\site-packages\\keras\\engine\\training.py:1915: UserWarning: `Model.fit_generator` is deprecated and will be removed in a future version. Please use `Model.fit`, which supports generators.\n",
      "  warnings.warn('`Model.fit_generator` is deprecated and '\n"
     ]
    },
    {
     "name": "stdout",
     "output_type": "stream",
     "text": [
      "Epoch 1/5\n",
      "385/385 [==============================] - 685s 961ms/step - loss: 0.9258 - accuracy: 0.4564 - precision: 0.3938 - recall: 0.4106 - val_loss: 0.6935 - val_accuracy: 0.5000 - val_precision: 0.5222 - val_recall: 0.7692\n",
      "Epoch 2/5\n",
      "385/385 [==============================] - 310s 802ms/step - loss: 0.6957 - accuracy: 0.4990 - precision: 0.5153 - recall: 0.7732 - val_loss: 0.6933 - val_accuracy: 0.5000 - val_precision: 0.5168 - val_recall: 0.7814\n",
      "Epoch 3/5\n",
      "385/385 [==============================] - 330s 855ms/step - loss: 0.6962 - accuracy: 0.5285 - precision: 0.5149 - recall: 0.7954 - val_loss: 0.6970 - val_accuracy: 0.5000 - val_precision: 0.5219 - val_recall: 0.7941\n",
      "Epoch 4/5\n",
      "385/385 [==============================] - 371s 961ms/step - loss: 0.7003 - accuracy: 0.4928 - precision: 0.5199 - recall: 0.8138 - val_loss: 0.6936 - val_accuracy: 0.5061 - val_precision: 0.5225 - val_recall: 0.8291\n",
      "Epoch 5/5\n",
      "385/385 [==============================] - 341s 882ms/step - loss: 0.6906 - accuracy: 0.5480 - precision: 0.5223 - recall: 0.8411 - val_loss: 0.6960 - val_accuracy: 0.5000 - val_precision: 0.5231 - val_recall: 0.8571\n",
      "164/164 [==============================] - 32s 179ms/step - loss: 0.6960 - accuracy: 0.5000 - precision: 0.5214 - recall: 0.86505s - loss: 0.6955 - accuracy: 0.5074 - preci\n",
      "\n",
      "Model's Evaluation Metrics: \n",
      "---------------------------\n",
      "Accuracy: 0.5 \n",
      "Loss: 0.6960219144821167 \n",
      "Precision: 0.5214219093322754 \n",
      "Recall: 0.8649547696113586\n"
     ]
    }
   ],
   "source": [
    "########## RNC\n",
    "from keras.models import Sequential\n",
    "from keras.layers import Conv2D, MaxPooling2D\n",
    "from keras.layers import Activation, Dropout, Flatten, Dense\n",
    "from keras.preprocessing.image import ImageDataGenerator\n",
    "import tensorflow as tf \n",
    "\n",
    "model = Sequential()\n",
    "model.add(Conv2D(32, (3, 3), input_shape=(300, 300, 3)))\n",
    "model.add(Activation('relu'))\n",
    "model.add(MaxPooling2D(pool_size=(2, 2), padding = 'same'))\n",
    "model.add(Conv2D(64, (3, 3)))\n",
    "model.add(Activation('relu'))\n",
    "model.add(MaxPooling2D(pool_size=(2, 2)))\n",
    "model.add(Conv2D(128, (3, 3)))\n",
    "model.add(Activation('relu'))\n",
    "model.add(MaxPooling2D(pool_size=(2, 2)))\n",
    "model.add(Flatten())\n",
    "model.add(Dense(64))\n",
    "model.add(Activation('relu'))\n",
    "model.add(Dropout(0.5))\n",
    "model.add(Dense(1))\n",
    "model.add(Activation('sigmoid'))\n",
    "model.compile(loss = 'binary_crossentropy',\n",
    "              optimizer = 'Adamax',\n",
    "              metrics = ['accuracy',tf.keras.metrics.Precision(), tf.keras.metrics.Recall()])\n",
    "batch_size = 1\n",
    "train_datagen = ImageDataGenerator(rescale = 1./255, \n",
    "                                   shear_range = 0.2,\n",
    "                                   zoom_range = 0.2,\n",
    "                                   horizontal_flip = True)\n",
    "# Testing Augmentation - Only Rescaling\n",
    "test_datagen = ImageDataGenerator(rescale = 1./255)\n",
    "# Generates batches of Augmented Image data\n",
    "train_generator = train_datagen.flow_from_directory('Train/', target_size = (300, 300), \n",
    "                                                    batch_size = batch_size,\n",
    "                                                    class_mode = 'binary') \n",
    "# Generator for validation data\n",
    "validation_generator = test_datagen.flow_from_directory('Test/', \n",
    "                                                        target_size = (300, 300),\n",
    "                                                        batch_size = batch_size,\n",
    "                                                        class_mode = 'binary')\n",
    "# Fit the model on Training data\n",
    "model.fit_generator(train_generator,\n",
    "                    epochs = 5,\n",
    "                    validation_data = validation_generator,\n",
    "                    verbose = 1)\n",
    "# Evaluating model performance on Testing data\n",
    "loss, accuracy, precision, recall = model.evaluate(validation_generator)\n",
    "print(\"\\nModel's Evaluation Metrics: \")\n",
    "print(\"---------------------------\")\n",
    "print(\"Accuracy: {} \\nLoss: {} \\nPrecision: {} \\nRecall: {}\".format(accuracy, loss, precision, recall))"
   ]
  },
  {
   "cell_type": "code",
   "execution_count": 2,
   "metadata": {},
   "outputs": [
    {
     "name": "stdout",
     "output_type": "stream",
     "text": [
      "Saved model to disk\n"
     ]
    }
   ],
   "source": [
    "# serialize model to JSON\n",
    "model_json = model.to_json()\n",
    "with open(\"model9.json\", \"w\") as json_file:\n",
    "    json_file.write(model_json)\n",
    "# serialize weights to HDF5\n",
    "model.save_weights(\"model9.h5\")\n",
    "print(\"Saved model to disk\")"
   ]
  },
  {
   "cell_type": "code",
   "execution_count": null,
   "metadata": {},
   "outputs": [],
   "source": []
  }
 ],
 "metadata": {
  "kernelspec": {
   "display_name": "Python 3",
   "language": "python",
   "name": "python3"
  },
  "language_info": {
   "codemirror_mode": {
    "name": "ipython",
    "version": 3
   },
   "file_extension": ".py",
   "mimetype": "text/x-python",
   "name": "python",
   "nbconvert_exporter": "python",
   "pygments_lexer": "ipython3",
   "version": "3.7.4"
  }
 },
 "nbformat": 4,
 "nbformat_minor": 2
}
